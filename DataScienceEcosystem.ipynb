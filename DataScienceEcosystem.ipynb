{
 "cells": [
  {
   "cell_type": "markdown",
   "id": "e94ea1e5",
   "metadata": {},
   "source": [
    "# Data Science Tools and Ecosystem"
   ]
  },
  {
   "cell_type": "markdown",
   "id": "c598b209",
   "metadata": {},
   "source": [
    "## In this notebook, Data Science Tools and Ecosystem are summarized"
   ]
  },
  {
   "cell_type": "markdown",
   "id": "707e1fff",
   "metadata": {},
   "source": [
    "### Some of the popular languages that Data Scientists use are : [1.Python, 2.R, 3.Java] "
   ]
  },
  {
   "cell_type": "markdown",
   "id": "6298cb2e",
   "metadata": {},
   "source": [
    "### Some of the commonly used libraries used by Data Scientists include:\n",
    "### [1. Pandas, 2. Numpy, 3. Scikit learn]"
   ]
  },
  {
   "cell_type": "markdown",
   "id": "589a66f7",
   "metadata": {},
   "source": [
    "| Data Science Tools |\n",
    "| ------------------ |\n",
    "| Jupyter Notebook   |\n",
    "| RStudio            |\n",
    "| Power BI           |"
   ]
  },
  {
   "cell_type": "markdown",
   "id": "126f4c05",
   "metadata": {},
   "source": [
    "### Below are a few examples of evaluating arithmetic expressions in Python"
   ]
  },
  {
   "cell_type": "code",
   "execution_count": 1,
   "id": "af0f30ee",
   "metadata": {},
   "outputs": [
    {
     "data": {
      "text/plain": [
       "17"
      ]
     },
     "execution_count": 1,
     "metadata": {},
     "output_type": "execute_result"
    }
   ],
   "source": [
    "#This is a simple arithmetic expression to multiply then add intergers\n",
    "(3*4)+5"
   ]
  },
  {
   "cell_type": "code",
   "execution_count": 3,
   "id": "e022882e",
   "metadata": {},
   "outputs": [
    {
     "name": "stdout",
     "output_type": "stream",
     "text": [
      "3\n"
     ]
    }
   ],
   "source": [
    "#this will convert 200 minutes to hours by dividing by 60\n",
    "mini=200\n",
    "hr=mini/60\n",
    "print(round(hr))"
   ]
  },
  {
   "cell_type": "markdown",
   "id": "024074a8",
   "metadata": {},
   "source": [
    "**Objectives:**\n",
    " - Popular data science languages used \n",
    " - commonly used data science libraries \n",
    " - data science tools used \n",
    " - arithmetic expressions\n",
    " - minute to hour calculation\n"
   ]
  },
  {
   "cell_type": "markdown",
   "id": "91ca1580",
   "metadata": {},
   "source": [
    "## Author \n",
    "Laxmi "
   ]
  },
  {
   "cell_type": "code",
   "execution_count": null,
   "id": "35f93085",
   "metadata": {},
   "outputs": [],
   "source": []
  }
 ],
 "metadata": {
  "kernelspec": {
   "display_name": "Python 3 (ipykernel)",
   "language": "python",
   "name": "python3"
  },
  "language_info": {
   "codemirror_mode": {
    "name": "ipython",
    "version": 3
   },
   "file_extension": ".py",
   "mimetype": "text/x-python",
   "name": "python",
   "nbconvert_exporter": "python",
   "pygments_lexer": "ipython3",
   "version": "3.10.9"
  }
 },
 "nbformat": 4,
 "nbformat_minor": 5
}
